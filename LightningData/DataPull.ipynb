{
 "cells": [
  {
   "cell_type": "markdown",
   "id": "c8a953e5-0e27-43f5-a47b-c45dd966c58e",
   "metadata": {},
   "source": [
    "EXTRA: Data Pulling for Mobile LMA Network:\n",
    "----\n",
    "This notebook serves as a template for downloading LMA data--primarily from the mobile NSSL--for flash sorting and gridding if additional data analyses are desired using the LTR."
   ]
  },
  {
   "cell_type": "code",
   "execution_count": 1,
   "id": "7b4097dd-0397-4999-b236-5e1fed7694f0",
   "metadata": {},
   "outputs": [],
   "source": [
    "import DataPull as pull\n",
    "from datetime import datetime,timedelta\n",
    "import urllib.request\n",
    "import numpy as np"
   ]
  },
  {
   "cell_type": "code",
   "execution_count": 13,
   "id": "d5e80010-3f96-4f2c-ba4b-f0f8d304ba2c",
   "metadata": {},
   "outputs": [],
   "source": [
    "def lma_thredds(start_hour,end_hour,case,file_case,pull):\n",
    "    '''\n",
    "    Short script to pull LMA data for any time period from the NSSL thredds server.\n",
    "    Args:\n",
    "        case = string of the desired case date (e.g., 20220928). Must be in YYYYMMDD format\n",
    "        start_hour = first file requested to download\n",
    "        end_hour   = final file data requested to download.\n",
    "        pull       = If True, data are downloaded, else assume data have already been collected.\n",
    "\n",
    "    All data downloaded into the directory in which the function is executed.\n",
    "    '''\n",
    "    #Download data if you don't have it.\n",
    "    #----------\n",
    "    if pull == True:\n",
    "        try:\n",
    "            base_url = f'https://data.nssl.noaa.gov/thredds/fileServer/WRDD/OKLMA/deployments/{case}/LYLOUT_{file_case[2:]}_%H%M%S_0600.dat.gz'\n",
    "            first_time = datetime(int(case[:4]),int(case[4:6]),int(case[6:]),start_hour,0,0)\n",
    "            if int(end_hour) < int(start_hour):\n",
    "                add = 1\n",
    "            else:\n",
    "                add = 0\n",
    "            last_time  = datetime(int(case[:4]),int(case[4:6]),int(int(case[6:])+add),end_hour  ,0,0)\n",
    "            file_time_step = timedelta(0, 600)\n",
    "            n_files = (last_time-first_time)/file_time_step\n",
    "\n",
    "            all_times = (first_time + file_time_step*i for i in range(int(n_files)))\n",
    "            filenames = [t.strftime(base_url) for t in all_times]\n",
    "            print(filenames)\n",
    "            for fn in filenames[:]:\n",
    "                base_fn = fn.split('/')[-1]\n",
    "                print(\"Downloading\", base_fn)\n",
    "                urllib.request.urlretrieve(fn, filename=base_fn)\n",
    "        except:\n",
    "            print('Base url is incorrect for selected date...Verify the correct path to Thredds data directory via a browser and edit path here.')\n",
    "    else:\n",
    "        print('No data requested to download.')"
   ]
  },
  {
   "cell_type": "markdown",
   "id": "accee701-66f6-4622-b500-107dd64f1925",
   "metadata": {},
   "source": [
    "pull_class"
   ]
  },
  {
   "cell_type": "markdown",
   "id": "256780d9-d134-451d-840a-9fa385db2627",
   "metadata": {},
   "source": [
    "## Download the data:\n",
    "Enter the start and ending hour of the dataset wished to be downloaed. Then, enter the case ID as YYYYMMDD string format. Finally, enter True for pulling the data."
   ]
  },
  {
   "cell_type": "code",
   "execution_count": 22,
   "id": "08c46356-9611-4ce2-8fa5-c55a2a64504a",
   "metadata": {
    "tags": []
   },
   "outputs": [
    {
     "name": "stdout",
     "output_type": "stream",
     "text": [
      "['https://data.nssl.noaa.gov/thredds/fileServer/WRDD/OKLMA/deployments/20230324/LYLOUT_230325_000000_0600.dat.gz', 'https://data.nssl.noaa.gov/thredds/fileServer/WRDD/OKLMA/deployments/20230324/LYLOUT_230325_001000_0600.dat.gz', 'https://data.nssl.noaa.gov/thredds/fileServer/WRDD/OKLMA/deployments/20230324/LYLOUT_230325_002000_0600.dat.gz', 'https://data.nssl.noaa.gov/thredds/fileServer/WRDD/OKLMA/deployments/20230324/LYLOUT_230325_003000_0600.dat.gz', 'https://data.nssl.noaa.gov/thredds/fileServer/WRDD/OKLMA/deployments/20230324/LYLOUT_230325_004000_0600.dat.gz', 'https://data.nssl.noaa.gov/thredds/fileServer/WRDD/OKLMA/deployments/20230324/LYLOUT_230325_005000_0600.dat.gz', 'https://data.nssl.noaa.gov/thredds/fileServer/WRDD/OKLMA/deployments/20230324/LYLOUT_230325_010000_0600.dat.gz', 'https://data.nssl.noaa.gov/thredds/fileServer/WRDD/OKLMA/deployments/20230324/LYLOUT_230325_011000_0600.dat.gz', 'https://data.nssl.noaa.gov/thredds/fileServer/WRDD/OKLMA/deployments/20230324/LYLOUT_230325_012000_0600.dat.gz', 'https://data.nssl.noaa.gov/thredds/fileServer/WRDD/OKLMA/deployments/20230324/LYLOUT_230325_013000_0600.dat.gz', 'https://data.nssl.noaa.gov/thredds/fileServer/WRDD/OKLMA/deployments/20230324/LYLOUT_230325_014000_0600.dat.gz', 'https://data.nssl.noaa.gov/thredds/fileServer/WRDD/OKLMA/deployments/20230324/LYLOUT_230325_015000_0600.dat.gz']\n",
      "Downloading LYLOUT_230325_000000_0600.dat.gz\n",
      "Downloading LYLOUT_230325_001000_0600.dat.gz\n",
      "Downloading LYLOUT_230325_002000_0600.dat.gz\n",
      "Downloading LYLOUT_230325_003000_0600.dat.gz\n",
      "Downloading LYLOUT_230325_004000_0600.dat.gz\n",
      "Downloading LYLOUT_230325_005000_0600.dat.gz\n",
      "Downloading LYLOUT_230325_010000_0600.dat.gz\n",
      "Downloading LYLOUT_230325_011000_0600.dat.gz\n",
      "Downloading LYLOUT_230325_012000_0600.dat.gz\n",
      "Downloading LYLOUT_230325_013000_0600.dat.gz\n",
      "Downloading LYLOUT_230325_014000_0600.dat.gz\n",
      "Downloading LYLOUT_230325_015000_0600.dat.gz\n"
     ]
    }
   ],
   "source": [
    "lma_thredds(0,2,'20230324','20230325',True) #set both date strings to be the same if deployment start time is the same as data start time on EOL catalog."
   ]
  },
  {
   "cell_type": "markdown",
   "id": "0a4d23ac-5f32-4228-805c-88616b0b1aff",
   "metadata": {},
   "source": [
    "## Get network center:\n",
    "Get the LMA center (geographic coordinates) for defining the case_param file. Users will have to change the directory of the processed L2 data in order for this to work."
   ]
  },
  {
   "cell_type": "code",
   "execution_count": 23,
   "id": "2da970c7-913e-4959-8956-542c1f51595d",
   "metadata": {},
   "outputs": [],
   "source": [
    "import gzip"
   ]
  },
  {
   "cell_type": "code",
   "execution_count": 24,
   "id": "a50fa202-1c87-4cc2-a50b-e5f583dec51b",
   "metadata": {},
   "outputs": [
    {
     "name": "stdout",
     "output_type": "stream",
     "text": [
      "Network Center Longitude  -90.9298850\n",
      "Network Center Latitude 32.918437\n"
     ]
    }
   ],
   "source": [
    "get_stations = 0\n",
    "#CHANGE DIRECTORY PATH!\n",
    "with gzip.open('/Users/admin/Desktop/PERiLS_Analysis/LMA/processed/MLMA/2023/Mar/24/LYLOUT_230324_170000_0600.dat.gz','r') as fin:        \n",
    "    for i,line in enumerate(fin): \n",
    "#         get_stations += np.where('Station information' in line.decode('utf8'))[0]\n",
    "        if 'Coordinate center' in line.decode('utf8'):\n",
    "            get_stations+=i\n",
    "            network_center = line.decode('utf8')\n",
    "            start = network_center.find(':')\n",
    "            center_lat = network_center[start+2:start+11]\n",
    "            center_lon = network_center[start+12:start+(12+12)]\n",
    "            \n",
    "print('Network Center Longitude',center_lon)\n",
    "print('Network Center Latitude',center_lat)"
   ]
  },
  {
   "cell_type": "code",
   "execution_count": null,
   "id": "62087fd6-eb85-48b7-a7f0-ef1b4c858d02",
   "metadata": {},
   "outputs": [],
   "source": []
  }
 ],
 "metadata": {
  "kernelspec": {
   "display_name": "Python 3",
   "language": "python",
   "name": "python3"
  },
  "language_info": {
   "codemirror_mode": {
    "name": "ipython",
    "version": 3
   },
   "file_extension": ".py",
   "mimetype": "text/x-python",
   "name": "python",
   "nbconvert_exporter": "python",
   "pygments_lexer": "ipython3",
   "version": "3.8.8"
  }
 },
 "nbformat": 4,
 "nbformat_minor": 5
}
